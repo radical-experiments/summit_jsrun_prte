{
 "cells": [
  {
   "cell_type": "code",
   "execution_count": 5,
   "metadata": {},
   "outputs": [
    {
     "data": {
      "text/html": [
       "<style>.container { width:100% !important; }</style>"
      ],
      "text/plain": [
       "<IPython.core.display.HTML object>"
      ]
     },
     "metadata": {},
     "output_type": "display_data"
    }
   ],
   "source": [
    "%matplotlib inline\n",
    "%run 'bin/notebook_utils.py'"
   ]
  },
  {
   "cell_type": "code",
   "execution_count": 6,
   "metadata": {},
   "outputs": [],
   "source": [
    "exp1_sessions = pd.read_csv('../data/exp1/sessions.csv', index_col=0)\n",
    "exp1_pilots = pd.read_csv('../data/exp1/pilots.csv', index_col=0)\n",
    "exp1_units = pd.read_csv('../data/exp1/units.csv', index_col=0)"
   ]
  },
  {
   "cell_type": "code",
   "execution_count": 7,
   "metadata": {},
   "outputs": [
    {
     "name": "stdout",
     "output_type": "stream",
     "text": [
      "Experiment 1: Baseline: Total number of successful runs: 5\n",
      "Experiment 1: Baseline: Total number of pilots: 5\n",
      "Experiment 1: Baseline: Total number of units: 7\n",
      "\n"
     ]
    }
   ],
   "source": [
    "print 'Experiment 1: Baseline: Total number of successful runs: %s' % exp1_sessions.shape[0]\n",
    "print 'Experiment 1: Baseline: Total number of pilots: %s' % exp1_pilots.shape[0]\n",
    "print 'Experiment 1: Baseline: Total number of units: %s\\n' % exp1_units.shape[0]"
   ]
  },
  {
   "cell_type": "code",
   "execution_count": 8,
   "metadata": {},
   "outputs": [
    {
     "data": {
      "text/html": [
       "<div>\n",
       "<style scoped>\n",
       "    .dataframe tbody tr th:only-of-type {\n",
       "        vertical-align: middle;\n",
       "    }\n",
       "\n",
       "    .dataframe tbody tr th {\n",
       "        vertical-align: top;\n",
       "    }\n",
       "\n",
       "    .dataframe thead tr th {\n",
       "        text-align: left;\n",
       "    }\n",
       "\n",
       "    .dataframe thead tr:last-of-type th {\n",
       "        text-align: right;\n",
       "    }\n",
       "</style>\n",
       "<table border=\"1\" class=\"dataframe\">\n",
       "  <thead>\n",
       "    <tr>\n",
       "      <th></th>\n",
       "      <th colspan=\"2\" halign=\"left\">TTQ</th>\n",
       "      <th colspan=\"2\" halign=\"left\">Agent queueing</th>\n",
       "      <th colspan=\"2\" halign=\"left\">Agent queueing execution</th>\n",
       "      <th colspan=\"2\" halign=\"left\">TTX</th>\n",
       "      <th colspan=\"2\" halign=\"left\">TTC</th>\n",
       "      <th colspan=\"2\" halign=\"left\">Agent scheduling</th>\n",
       "    </tr>\n",
       "    <tr>\n",
       "      <th></th>\n",
       "      <th>mean</th>\n",
       "      <th>std</th>\n",
       "      <th>mean</th>\n",
       "      <th>std</th>\n",
       "      <th>mean</th>\n",
       "      <th>std</th>\n",
       "      <th>mean</th>\n",
       "      <th>std</th>\n",
       "      <th>mean</th>\n",
       "      <th>std</th>\n",
       "      <th>mean</th>\n",
       "      <th>std</th>\n",
       "    </tr>\n",
       "    <tr>\n",
       "      <th>nunit</th>\n",
       "      <th></th>\n",
       "      <th></th>\n",
       "      <th></th>\n",
       "      <th></th>\n",
       "      <th></th>\n",
       "      <th></th>\n",
       "      <th></th>\n",
       "      <th></th>\n",
       "      <th></th>\n",
       "      <th></th>\n",
       "      <th></th>\n",
       "      <th></th>\n",
       "    </tr>\n",
       "  </thead>\n",
       "  <tbody>\n",
       "    <tr>\n",
       "      <th>1/48</th>\n",
       "      <td>59.459004</td>\n",
       "      <td>42.339110</td>\n",
       "      <td>0.000788</td>\n",
       "      <td>0.000076</td>\n",
       "      <td>0.000792</td>\n",
       "      <td>0.000037</td>\n",
       "      <td>900.610458</td>\n",
       "      <td>0.160406</td>\n",
       "      <td>1.562854e+09</td>\n",
       "      <td>5136.458185</td>\n",
       "      <td>0.003607</td>\n",
       "      <td>0.000579</td>\n",
       "    </tr>\n",
       "    <tr>\n",
       "      <th>2/96</th>\n",
       "      <td>41.296116</td>\n",
       "      <td>9.726954</td>\n",
       "      <td>0.001011</td>\n",
       "      <td>0.000068</td>\n",
       "      <td>0.007377</td>\n",
       "      <td>0.000055</td>\n",
       "      <td>1800.520036</td>\n",
       "      <td>0.003263</td>\n",
       "      <td>1.562866e+09</td>\n",
       "      <td>1323.779111</td>\n",
       "      <td>0.005231</td>\n",
       "      <td>0.000490</td>\n",
       "    </tr>\n",
       "  </tbody>\n",
       "</table>\n",
       "</div>"
      ],
      "text/plain": [
       "             TTQ            Agent queueing           Agent queueing execution                    TTX                     TTC              Agent scheduling          \n",
       "            mean        std           mean       std                     mean       std         mean       std          mean          std             mean       std\n",
       "nunit                                                                                                                                                               \n",
       "1/48   59.459004  42.339110       0.000788  0.000076                 0.000792  0.000037   900.610458  0.160406  1.562854e+09  5136.458185         0.003607  0.000579\n",
       "2/96   41.296116   9.726954       0.001011  0.000068                 0.007377  0.000055  1800.520036  0.003263  1.562866e+09  1323.779111         0.005231  0.000490"
      ]
     },
     "execution_count": 8,
     "metadata": {},
     "output_type": "execute_result"
    }
   ],
   "source": [
    "sws = exp1_sessions[\n",
    "    ['nunit','TTC','P_LRMS_QUEUING','U_AGENT_QUEUING','U_AGENT_SCHEDULING','U_AGENT_QUEUING_EXEC','U_AGENT_EXECUTING']\n",
    "        ].groupby(['nunit']).aggregate(\n",
    "                {'TTC'                 : ['mean','std'],\n",
    "                 'P_LRMS_QUEUING'      : ['mean','std'],\n",
    "                 'U_AGENT_QUEUING'     : ['mean','std'],\n",
    "                 'U_AGENT_SCHEDULING'  : ['mean','std'],\n",
    "                 'U_AGENT_QUEUING_EXEC': ['mean','std'],\n",
    "                 'U_AGENT_EXECUTING'   : ['mean','std']})\n",
    "\n",
    "sws.rename({'P_LRMS_QUEUING'      :'TTQ'}, axis='columns', inplace=True)\n",
    "sws.rename({'U_AGENT_QUEUING'     :'Agent queueing'}, axis='columns', inplace=True)\n",
    "sws.rename({'U_AGENT_SCHEDULING'  :'Agent scheduling'}, axis='columns', inplace=True)\n",
    "sws.rename({'U_AGENT_QUEUING_EXEC':'Agent queueing execution'}, axis='columns', inplace=True)\n",
    "sws.rename({'U_AGENT_EXECUTING'   :'TTX'}, axis='columns', inplace=True)\n",
    "sws.rename(index={i: '%s/%s' % (i, i*48) for i in sws.index.get_values()}, inplace=True)\n",
    "sws"
   ]
  },
  {
   "cell_type": "code",
   "execution_count": null,
   "metadata": {},
   "outputs": [],
   "source": []
  }
 ],
 "metadata": {
  "hide_input": false,
  "kernelspec": {
   "display_name": "Python 2",
   "language": "python",
   "name": "python2"
  },
  "language_info": {
   "codemirror_mode": {
    "name": "ipython",
    "version": 2
   },
   "file_extension": ".py",
   "mimetype": "text/x-python",
   "name": "python",
   "nbconvert_exporter": "python",
   "pygments_lexer": "ipython2",
   "version": "2.7.16"
  },
  "varInspector": {
   "cols": {
    "lenName": 16,
    "lenType": 16,
    "lenVar": 40
   },
   "kernels_config": {
    "python": {
     "delete_cmd_postfix": "",
     "delete_cmd_prefix": "del ",
     "library": "var_list.py",
     "varRefreshCmd": "print(var_dic_list())"
    },
    "r": {
     "delete_cmd_postfix": ") ",
     "delete_cmd_prefix": "rm(",
     "library": "var_list.r",
     "varRefreshCmd": "cat(var_dic_list()) "
    }
   },
   "types_to_exclude": [
    "module",
    "function",
    "builtin_function_or_method",
    "instance",
    "_Feature"
   ],
   "window_display": false
  }
 },
 "nbformat": 4,
 "nbformat_minor": 2
}
